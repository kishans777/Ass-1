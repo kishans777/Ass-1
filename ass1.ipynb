{
 "cells": [
  {
   "cell_type": "markdown",
   "id": "a9f61b14-3aaa-4f23-9856-d8c24fe729a5",
   "metadata": {},
   "source": [
    "Q1. Create one variable containing following type of data:"
   ]
  },
  {
   "cell_type": "code",
   "execution_count": 4,
   "id": "4f217ea4-fd04-477e-b41f-d189bc567049",
   "metadata": {},
   "outputs": [],
   "source": [
    "x=5"
   ]
  },
  {
   "cell_type": "code",
   "execution_count": 5,
   "id": "295ad82f-b75a-4476-8226-7edff7a3d209",
   "metadata": {},
   "outputs": [
    {
     "data": {
      "text/plain": [
       "5"
      ]
     },
     "execution_count": 5,
     "metadata": {},
     "output_type": "execute_result"
    }
   ],
   "source": [
    "x"
   ]
  },
  {
   "cell_type": "code",
   "execution_count": 6,
   "id": "4d9928b5-6fa1-414a-b85f-b0d7b1ff3cef",
   "metadata": {},
   "outputs": [],
   "source": [
    "y=76.8"
   ]
  },
  {
   "cell_type": "code",
   "execution_count": 7,
   "id": "219c06c7-e645-4207-9625-27be2e569a3b",
   "metadata": {},
   "outputs": [
    {
     "data": {
      "text/plain": [
       "76.8"
      ]
     },
     "execution_count": 7,
     "metadata": {},
     "output_type": "execute_result"
    }
   ],
   "source": [
    "y"
   ]
  },
  {
   "cell_type": "code",
   "execution_count": 10,
   "id": "f72e31ae-cabc-43a3-b9c1-4e5e9c178869",
   "metadata": {},
   "outputs": [],
   "source": [
    "l=[82,32,43,23,\"kishan\",\"ram\",65.7,98,7,True,False]"
   ]
  },
  {
   "cell_type": "code",
   "execution_count": 11,
   "id": "3e1494fb-8703-4c8c-bec8-4673175f5602",
   "metadata": {},
   "outputs": [
    {
     "data": {
      "text/plain": [
       "[82, 32, 43, 23, 'kishan', 'ram', 65.7, 98, 7, True, False]"
      ]
     },
     "execution_count": 11,
     "metadata": {},
     "output_type": "execute_result"
    }
   ],
   "source": [
    "l"
   ]
  },
  {
   "cell_type": "code",
   "execution_count": 12,
   "id": "99d73ca0-d6b9-42e7-93ad-f954592013f5",
   "metadata": {},
   "outputs": [],
   "source": [
    "mytuple = (\"apple\", \"banana\", \"cherry\")"
   ]
  },
  {
   "cell_type": "code",
   "execution_count": 13,
   "id": "69b437d6-4e58-402a-bd77-82bba5040701",
   "metadata": {},
   "outputs": [
    {
     "data": {
      "text/plain": [
       "('apple', 'banana', 'cherry')"
      ]
     },
     "execution_count": 13,
     "metadata": {},
     "output_type": "execute_result"
    }
   ],
   "source": [
    "mytuple"
   ]
  },
  {
   "cell_type": "markdown",
   "id": "6d250e26-69a3-4aa3-87af-e7d581ea5329",
   "metadata": {},
   "source": [
    "Q2. Given are some following variables containing data:"
   ]
  },
  {
   "cell_type": "code",
   "execution_count": 14,
   "id": "ebae13c1-a779-4fa3-afee-9b313c9c6d21",
   "metadata": {},
   "outputs": [],
   "source": [
    "var1=' '"
   ]
  },
  {
   "cell_type": "code",
   "execution_count": 15,
   "id": "b4608fd0-2e4c-428a-aea8-f7f019932778",
   "metadata": {},
   "outputs": [
    {
     "data": {
      "text/plain": [
       "str"
      ]
     },
     "execution_count": 15,
     "metadata": {},
     "output_type": "execute_result"
    }
   ],
   "source": [
    "type(var1)"
   ]
  },
  {
   "cell_type": "code",
   "execution_count": 16,
   "id": "f54a7c56-7c17-4c38-a881-afd0a27ab8c0",
   "metadata": {},
   "outputs": [],
   "source": [
    "var2= '[ DS , ML , Python]'\n"
   ]
  },
  {
   "cell_type": "code",
   "execution_count": 17,
   "id": "13a6cb06-ae8f-4368-bfbc-09e71443d445",
   "metadata": {},
   "outputs": [
    {
     "data": {
      "text/plain": [
       "str"
      ]
     },
     "execution_count": 17,
     "metadata": {},
     "output_type": "execute_result"
    }
   ],
   "source": [
    "type(var2)"
   ]
  },
  {
   "cell_type": "code",
   "execution_count": 18,
   "id": "d628bf3e-85a9-4ce6-999d-8fbed61914d4",
   "metadata": {},
   "outputs": [],
   "source": [
    "var3 = [ \"ds\" , \"ML\" , \"Python\" ]\n"
   ]
  },
  {
   "cell_type": "code",
   "execution_count": 19,
   "id": "5669936e-cbb4-4feb-a4b3-ed68702c1516",
   "metadata": {},
   "outputs": [
    {
     "data": {
      "text/plain": [
       "list"
      ]
     },
     "execution_count": 19,
     "metadata": {},
     "output_type": "execute_result"
    }
   ],
   "source": [
    "type(var3)"
   ]
  },
  {
   "cell_type": "code",
   "execution_count": 20,
   "id": "7a59f07b-f3a5-4ee4-aac9-92c7742ea9f9",
   "metadata": {},
   "outputs": [],
   "source": [
    "var4 = 1"
   ]
  },
  {
   "cell_type": "code",
   "execution_count": 21,
   "id": "0288e3f5-f96f-44ce-a23e-b237aafb4192",
   "metadata": {},
   "outputs": [
    {
     "data": {
      "text/plain": [
       "int"
      ]
     },
     "execution_count": 21,
     "metadata": {},
     "output_type": "execute_result"
    }
   ],
   "source": [
    "type(var4)"
   ]
  },
  {
   "cell_type": "markdown",
   "id": "665acffa-f54d-4890-bf9d-bd8a3370ef37",
   "metadata": {},
   "source": [
    "Q3. Explain the use of the following operators using an example:"
   ]
  },
  {
   "cell_type": "code",
   "execution_count": 22,
   "id": "e1b87856-bb5a-4b5e-8044-400b8ad86bc5",
   "metadata": {},
   "outputs": [
    {
     "data": {
      "text/plain": [
       "0.06510416666666667"
      ]
     },
     "execution_count": 22,
     "metadata": {},
     "output_type": "execute_result"
    }
   ],
   "source": [
    "x/y"
   ]
  },
  {
   "cell_type": "code",
   "execution_count": 23,
   "id": "33c08554-3eea-4d78-a9de-80dfc2a51cc5",
   "metadata": {},
   "outputs": [
    {
     "data": {
      "text/plain": [
       "5.0"
      ]
     },
     "execution_count": 23,
     "metadata": {},
     "output_type": "execute_result"
    }
   ],
   "source": [
    "x%y"
   ]
  },
  {
   "cell_type": "code",
   "execution_count": 24,
   "id": "6fb11bee-24ac-43ee-995d-0d14e1856280",
   "metadata": {},
   "outputs": [
    {
     "data": {
      "text/plain": [
       "0.0"
      ]
     },
     "execution_count": 24,
     "metadata": {},
     "output_type": "execute_result"
    }
   ],
   "source": [
    "x//y"
   ]
  },
  {
   "cell_type": "code",
   "execution_count": 25,
   "id": "1bb0291d-7b5e-4d17-968b-34c75466b0f3",
   "metadata": {},
   "outputs": [
    {
     "data": {
      "text/plain": [
       "4.796189489335126e+53"
      ]
     },
     "execution_count": 25,
     "metadata": {},
     "output_type": "execute_result"
    }
   ],
   "source": [
    "x**y"
   ]
  },
  {
   "cell_type": "markdown",
   "id": "2129d79e-4a07-4759-8e19-a72012013da0",
   "metadata": {},
   "source": [
    "Q4. Create a list of length 10 of your choice containing multiple types of data. Using for loop print the\n",
    "element and its data type."
   ]
  },
  {
   "cell_type": "code",
   "execution_count": 28,
   "id": "e50e80c9-56b1-4bfb-ab48-e94d61973323",
   "metadata": {},
   "outputs": [
    {
     "name": "stdout",
     "output_type": "stream",
     "text": [
      "<class 'int'>\n",
      "<class 'int'>\n",
      "<class 'int'>\n",
      "<class 'str'>\n",
      "<class 'str'>\n",
      "<class 'float'>\n",
      "<class 'float'>\n",
      "<class 'bool'>\n",
      "<class 'bool'>\n",
      "<class 'int'>\n"
     ]
    }
   ],
   "source": [
    "l2=[23,54,34,\"kishan\",\"aryan\",65.8,65.3,True,False,65]\n",
    "for i in l2:\n",
    "    print(type(i))"
   ]
  },
  {
   "cell_type": "markdown",
   "id": "79e5fd53-b9b1-4c33-9977-f03f3d446260",
   "metadata": {},
   "source": [
    "Q5. Using a while loop, verify if the number A is purely divisible by number B and if so then how many\n",
    "times it can be divisible."
   ]
  },
  {
   "cell_type": "code",
   "execution_count": 29,
   "id": "5503f810-cba6-4c26-ab25-e785fea77f05",
   "metadata": {},
   "outputs": [
    {
     "name": "stdout",
     "output_type": "stream",
     "text": [
      "Number of times A is divisible by B: 1\n"
     ]
    }
   ],
   "source": [
    "A = 24  # The number to be divided\n",
    "B = 3   # The divisor\n",
    "\n",
    "count = 0  # Counter for the number of divisions\n",
    "\n",
    "while A % B == 0:\n",
    "    A = A / B\n",
    "    count += 1\n",
    "\n",
    "print(\"Number of times A is divisible by B:\", count)"
   ]
  },
  {
   "cell_type": "markdown",
   "id": "05d41606-5b63-425e-b986-ef40ac57b655",
   "metadata": {},
   "source": [
    "Q6. Create a list containing 25 int type data. Using for loop and if-else condition print if the element is\n",
    "divisible by 3 or not."
   ]
  },
  {
   "cell_type": "code",
   "execution_count": 30,
   "id": "3731bb76-2452-4231-a988-332d26b3a3aa",
   "metadata": {},
   "outputs": [
    {
     "name": "stdout",
     "output_type": "stream",
     "text": [
      "53 is not divisible by 3\n",
      "44 is not divisible by 3\n",
      "86 is not divisible by 3\n",
      "68 is not divisible by 3\n",
      "98 is not divisible by 3\n",
      "45 is divisible by 3\n",
      "46 is not divisible by 3\n",
      "1 is not divisible by 3\n",
      "67 is not divisible by 3\n",
      "69 is divisible by 3\n",
      "61 is not divisible by 3\n",
      "68 is not divisible by 3\n",
      "98 is not divisible by 3\n",
      "100 is not divisible by 3\n",
      "34 is not divisible by 3\n",
      "60 is divisible by 3\n",
      "49 is not divisible by 3\n",
      "88 is not divisible by 3\n",
      "71 is not divisible by 3\n",
      "45 is divisible by 3\n",
      "4 is not divisible by 3\n",
      "97 is not divisible by 3\n",
      "74 is not divisible by 3\n",
      "90 is divisible by 3\n",
      "99 is divisible by 3\n"
     ]
    }
   ],
   "source": [
    "import random\n",
    "\n",
    "# Create a list of 25 random integers\n",
    "my_list = [random.randint(1, 100) for _ in range(25)]\n",
    "\n",
    "# Iterate over the list and check if each element is divisible by 3\n",
    "for num in my_list:\n",
    "    if num % 3 == 0:\n",
    "        print(f\"{num} is divisible by 3\")\n",
    "    else:\n",
    "        print(f\"{num} is not divisible by 3\")"
   ]
  },
  {
   "cell_type": "markdown",
   "id": "9a35f928-b08a-4516-aa2b-25d421993cff",
   "metadata": {},
   "source": [
    "What do you understand about mutable and immutable data types? Give examples for both showing\n",
    "this property."
   ]
  },
  {
   "cell_type": "markdown",
   "id": "f44b3367-1250-4dac-a1d1-297bea402da9",
   "metadata": {},
   "source": [
    "mutable means a value which is assigned by any variable which is changeable \n",
    "for example a list contain some value\n",
    "l1=[23,54,\"kishan\",\"rohit\"]\n",
    "l1[2]=\"ram\"\n",
    "\n",
    "immutabl means a value assigned by any variable we cant change it \n",
    "for example a variable "
   ]
  }
 ],
 "metadata": {
  "kernelspec": {
   "display_name": "Python 3 (ipykernel)",
   "language": "python",
   "name": "python3"
  },
  "language_info": {
   "codemirror_mode": {
    "name": "ipython",
    "version": 3
   },
   "file_extension": ".py",
   "mimetype": "text/x-python",
   "name": "python",
   "nbconvert_exporter": "python",
   "pygments_lexer": "ipython3",
   "version": "3.10.8"
  }
 },
 "nbformat": 4,
 "nbformat_minor": 5
}
